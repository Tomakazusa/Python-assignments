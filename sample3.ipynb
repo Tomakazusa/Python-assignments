{
 "cells": [
  {
   "cell_type": "markdown",
   "metadata": {},
   "source": [
    "<p style=\"font-size:30px; text-align:center; line-height:120%\">\n",
    "<br>\n",
    "ENGI 1006<br>\n",
    "Intro. to Computing for Engineers and Applied Scientists.<br>\n",
    "Spring 2018 Take Home Midterm\n",
    "</p>"
   ]
  },
  {
   "cell_type": "markdown",
   "metadata": {},
   "source": [
    "# Exam Overview and Instructions\n",
    "\n",
    "- Homework assignments and exams have point values. Final grade depends on total point value. The range is 0 to 100 points. __This midterm exam is worth 20 points.__\n",
    "\n",
    "\n",
    "- Submission:\n",
    "    - The exam is due on 23-Mar-2018 at 11:59PM. __You may not use grace days.__\n",
    "    - Submission:\n",
    "        - Format is a copy of this Jupyter Notebook with your solutions entered into the code cells for each question.\n",
    "        - You submit your homework on CourseWorks under \"Midterm Examination\" assignment.\n",
    "        - No other formats are allowed.\n",
    "        - If the notebook format is incorrect, the notebook is corrupted or we cannot execute the notebook, the grade is 0.\n",
    "        - Submissions after the due date and time are not allowed. Submissions not received on time receive a grade of 0.\n",
    "    - Respect for the individual is paramount. We will accommodate special circumstances, but we must be notified and discuss _in advance._\n",
    "    \n",
    "\n",
    "- Exam Rules:\n",
    "    - Please read and review the [Academic Integrity policy and guidelines](https://www.college.columbia.edu/academics/academicintegrity), including subsections and details. This material defines the rules for this exam regardless of your school.\n",
    "    - No collaboration of any form is permitted. You may not share material of any form, including links to on-line information, _information from the preparatory recitation section,_ suggestions or ideas, etc.\n",
    "    - You MAY use any on-line information you find, but may not directly use code you find. You must cite any on-line sources in the comments Markdown cell for each questions.\n",
    "    - You must privately send comments or questions to Professor Ferguson via email. If questions or comments demonstrate a need for clarification or correction, Prof. Ferguson will update this document and send an email notification.\n",
    "    \n",
    "    \n",
    "- Completing the exam:\n",
    "    - You may import and use any standard, built-in Python library. You may NOT use any other modules or libraries.\n",
    "    - There are six questions.\n",
    "    - Each question has an assigned point value, documented in the question definition.\n",
    "    - Each question has 4 sections:\n",
    "        1. Text defining the problem and solution requirement.\n",
    "        2. An empty notebook code cell, which is where you enter your solution to the problem.\n",
    "        3. A code cell that calls a solution I implemented, and which provides sample outputs from the solution. __You may not change this cell.__ You may execute this cell to determine if your solution produces the same output.\n",
    "        4. An empty code cell where you may enter your own test cases and print sample output.\n",
    "    - Questions ask you to \"write a function that ...\" You may decompose the problem and implement using additional functions to implement the requested function.\n",
    "    - You may choose any order for function parameters that you want. In some cases, correctly answering the question may require changing the order of the parameters.\n",
    "    - We will grade an answer on functional correctness and code quality.\n",
    "        - Please remember the rules from the textbook, \t\n",
    "            - Think before you program!\n",
    "            - A program is a human-readable essay on problem solving that also happens to execute on a computer.\n",
    "            - The best way to improve your programming and problem solving skills is to practice!\n",
    "            - A foolish consistency is the hobgoblin of little minds.\n",
    "            - Test your code, often and thoroughly.\n",
    "            - If it was hard to write, it is probably hard to read. Add a comment.\n",
    "            - All input is evil, unless proven otherwise.\n",
    "        - Your solution MUST NOT FAIL.\n",
    "            - Your code must prevent errors due to bad input or other error conditions.\n",
    "            - You MAY handle exceptions in your code. You may raise your own exceptions. You may also return a clear error value and print an error message.\n",
    "            - The graders and I will actively attempt to cause your procedure to fail with an un-handled exception.\n",
    "        - If the graders and I do not understand your code, it is wrong. \"A program is a human-readable essay on problem solving that also happens to execute on a computer.\"\n"
   ]
  },
  {
   "cell_type": "markdown",
   "metadata": {},
   "source": [
    "# Exam Questions"
   ]
  },
  {
   "cell_type": "markdown",
   "metadata": {},
   "source": [
    "## Compute Fibonacci Numbers: 3 points\n",
    "\n",
    "### Definition\n",
    "\n",
    "In mathematics, the Fibonacci numbers are the numbers in a sequence called the Fibonacci sequence. The sequence is characterized by the fact that every number after the first two is the sum of the two preceding ones. The first few Fibonacci Numbers are:\n",
    "\n",
    "0, 1, 1, 2, 3, 5, 8, 13, 21, 34, ...\n",
    "\n",
    "If $F_n$ is the n-th Fibonacci number, the formula for computing $F_n$ is $F_n = F_{n-1} + F_{n-2}$\n",
    "\n",
    "_Write a python function $compute\\_fib(n)$ that takes as input an integer $n.$ The function should compute and return a list of the first $n$ Fibonacci Numbers._\n",
    "\n",
    "### Solution"
   ]
  },
  {
   "cell_type": "code",
   "execution_count": 3,
   "metadata": {
    "collapsed": true
   },
   "outputs": [],
   "source": [
    "# Your solution goes here.\n",
    "def compute_fib(n):\n",
    "    if type(n) != int:\n",
    "        print('n should be an integer')\n",
    "    if type(n) == int:\n",
    "        if n == 1:\n",
    "            sequence = [0]\n",
    "        if n == 2:\n",
    "            sequence = [0,1]\n",
    "        if n > 2:\n",
    "            sequence = [0,1]\n",
    "            for i in range(2,n):\n",
    "                sequence = sequence + [sequence[i-1] + sequence[i-2]]\n",
    "    return sequence"
   ]
  },
  {
   "cell_type": "code",
   "execution_count": 4,
   "metadata": {
    "scrolled": true
   },
   "outputs": [
    {
     "name": "stdout",
     "output_type": "stream",
     "text": [
      "Example executions.\n",
      "compute_fib(4)=  [0, 1, 1, 2]\n",
      "compute_fib(12)=  [0, 1, 1, 2, 3, 5, 8, 13, 21, 34, 55, 89]\n"
     ]
    }
   ],
   "source": [
    "print(\"Example executions.\")\n",
    "t1, t2 = 4, 12\n",
    "print(\"compute_fib(\" + str(t1) +\")= \", compute_fib(t1))\n",
    "print(\"compute_fib(\" + str(t2) +\")= \", compute_fib(t2))"
   ]
  },
  {
   "cell_type": "markdown",
   "metadata": {},
   "source": [
    "### Your Test Cases"
   ]
  },
  {
   "cell_type": "code",
   "execution_count": 5,
   "metadata": {},
   "outputs": [
    {
     "name": "stdout",
     "output_type": "stream",
     "text": [
      "compute_fib(5)=  [0, 1, 1, 2, 3]\n",
      "compute_fib(16)=  [0, 1, 1, 2, 3, 5, 8, 13, 21, 34, 55, 89, 144, 233, 377, 610]\n"
     ]
    }
   ],
   "source": [
    "t1, t2 = 5, 16\n",
    "print(\"compute_fib(\" + str(t1) +\")= \", compute_fib(t1))\n",
    "print(\"compute_fib(\" + str(t2) +\")= \", compute_fib(t2))"
   ]
  },
  {
   "cell_type": "markdown",
   "metadata": {},
   "source": [
    "### Comments"
   ]
  },
  {
   "cell_type": "markdown",
   "metadata": {},
   "source": [
    "## Compute Polynomial Value: 3 points\n",
    "\n",
    "### Definition\n",
    "\n",
    "A vector (ordered list) of real numbers $\\vec{c} = (c_0, c_1, ..., c_n)$ defines a polynomial. For example, if $\\vec{c} = (1, 0, 0, 2),$ the corresponding polynomial is\n",
    "\n",
    "\\begin{equation}\n",
    "P(x) = 1*x^0 + 0*x^1 + 0*x^2 + 2*x^3\n",
    "\\end{equation}\n",
    "\n",
    "_Write a function $poly(c, x)$ that takes as input a list of arbitrary length that defines the polynomial and the value for which to compute the answer._ \n",
    "\n",
    "### Solution"
   ]
  },
  {
   "cell_type": "code",
   "execution_count": 1,
   "metadata": {
    "collapsed": true
   },
   "outputs": [],
   "source": [
    "# Your solution goes here.\n",
    "def poly(c,x):\n",
    "    \n",
    "    polynomial = []\n",
    "    \n",
    "    for i in range(len(c)):\n",
    "        \n",
    "        polynomial.append(c[i]*x**(i))\n",
    "    \n",
    "    return float(sum(polynomial))"
   ]
  },
  {
   "cell_type": "code",
   "execution_count": 3,
   "metadata": {},
   "outputs": [
    {
     "name": "stdout",
     "output_type": "stream",
     "text": [
      "25.0\n"
     ]
    }
   ],
   "source": [
    "c = [1, 0, 2, 2]\n",
    "print(poly(c, 2))"
   ]
  },
  {
   "cell_type": "markdown",
   "metadata": {},
   "source": [
    "### Your Test Cases"
   ]
  },
  {
   "cell_type": "code",
   "execution_count": 8,
   "metadata": {},
   "outputs": [
    {
     "name": "stdout",
     "output_type": "stream",
     "text": [
      "142.0\n"
     ]
    }
   ],
   "source": [
    "c = [1,2,3,4]\n",
    "print(poly(c,3))"
   ]
  },
  {
   "cell_type": "markdown",
   "metadata": {},
   "source": [
    "### Comments"
   ]
  },
  {
   "cell_type": "markdown",
   "metadata": {},
   "source": [
    "## Simple Substitution Code: 3 points\n",
    "\n",
    "### Definition\n",
    "\n",
    "A simple substitution cipher is a function $f(c)$ that maps a character in the range C = \\['a', ..., 'z'\\] to a different character in C. No two characters map to the same character, and a given character always maps to the same character. One way to define a substitution cipher is to use a key $K$ that is reordering of the alphabet. If c is the nth letter in the normal alphabet, f(c) maps to the nth letter in the key. For example, If the key is k = 'cotdiyuzbvgkmhjsxrpewanfql'\n",
    "- f(\"a\") = \"c\"\n",
    "- f(\"c\") = \"t\"\n",
    "\n",
    "You may assume that messages only contain lowercase characters from 'a' to 'z'\n",
    "\n",
    "_Write two functions._\n",
    "- _encrypt(s, k)_ encrypts a clear text (unencrypted) string s using key k.\n",
    "- _decrypt(s, k)_ decrypts a string to produce the original message.\n",
    "\n",
    "Test your functions with\n",
    "- key = 'cotdiyuzbvgkmhjsxrpewanfql'\n",
    "- test_string = 'attackxxatxxdawn'\n",
    "\n",
    "### Solution"
   ]
  },
  {
   "cell_type": "code",
   "execution_count": 9,
   "metadata": {
    "collapsed": true
   },
   "outputs": [],
   "source": [
    "# Your code goes here.\n",
    "def encrypt(s,k):\n",
    "    outcome = []\n",
    "    for i in range(len(s)):\n",
    "        encryt_value = k[ord(s[i])-97]\n",
    "        outcome.append(encryt_value)\n",
    "    outcome = ''.join(outcome)\n",
    "    return outcome\n",
    "def decrypt(s,k):\n",
    "    outcome = []\n",
    "    alphabet = [chr(i) for i in range(97,123)]\n",
    "    for i in range(len(s)):\n",
    "        for j in range(len(k)):\n",
    "            if s[i] == k[j]:\n",
    "                outcome.append(alphabet[j])\n",
    "    outcome = ''.join(outcome)\n",
    "    return outcome"
   ]
  },
  {
   "cell_type": "code",
   "execution_count": 10,
   "metadata": {},
   "outputs": [
    {
     "name": "stdout",
     "output_type": "stream",
     "text": [
      "Clear message = attackxxatxxdawn\n",
      "encrypted =  ceectgffceffdcnh\n",
      "decrypted =  attackxxatxxdawn\n"
     ]
    }
   ],
   "source": [
    "print(\"Clear message = attackxxatxxdawn\")\n",
    "ec = encrypt('attackxxatxxdawn', 'cotdiyuzbvgkmhjsxrpewanfql')\n",
    "print(\"encrypted = \", ec)\n",
    "dc = decrypt(ec, 'cotdiyuzbvgkmhjsxrpewanfql')\n",
    "print(\"decrypted = \", dc)"
   ]
  },
  {
   "cell_type": "markdown",
   "metadata": {},
   "source": [
    "### Your Test Cases"
   ]
  },
  {
   "cell_type": "code",
   "execution_count": 11,
   "metadata": {},
   "outputs": [
    {
     "name": "stdout",
     "output_type": "stream",
     "text": [
      "Clear message = attackxxatxxdawn\n",
      "encrypted =  ceectgffceffdcnh\n",
      "decrypted =  attackxxatxxdawn\n"
     ]
    }
   ],
   "source": [
    "print(\"Clear message = attackxxatxxdawn\")\n",
    "ec = encrypt('attackxxatxxdawn', 'cotdiyuzbvgkmhjsxrpewanfql')\n",
    "print(\"encrypted = \", ec)\n",
    "dc = decrypt(ec, 'cotdiyuzbvgkmhjsxrpewanfql')\n",
    "print(\"decrypted = \", dc)"
   ]
  },
  {
   "cell_type": "markdown",
   "metadata": {},
   "source": [
    "### Comments"
   ]
  },
  {
   "cell_type": "markdown",
   "metadata": {},
   "source": [
    "## Magic Shuffle: 4 points\n",
    "\n",
    "### Definition\n",
    "\n",
    "\"An _in or out shuffle_ is a type of perfect shuffle done in two steps:\n",
    "- Split the cards exactly in half (a bottom half and a top half) and then\n",
    "- Interweave each half of the deck such that every-other card came from the same half of the deck.\n",
    "\n",
    "If this shuffle keeps the top card on top ..., then it is _an out shuffle,_ otherwise it is known as an _in shuffle.\"_(https://en.wikipedia.org/wiki/Out_shuffle)\n",
    "\n",
    "\n",
    "\"The faro shuffle (American), weave shuffle (British), riffle shuffle, or dovetail shuffle is a method of shuffling playing cards. Mathematicians use \"faro shuffle\" for a shuffle in which the deck is split into equal halves of 26 cards that are then interwoven perfectly. \n",
    "... ...\n",
    "\n",
    "If one manages to perform eight perfect faro out-shuffles in a row, then the deck of 52 cards will be restored to its original order. If one can do perfect in-shuffles, then 26 in shuffles will reverse the order of the deck, ...\" (https://en.wikipedia.org/wiki/Faro_shuffle)\n",
    "\n",
    "_Write a function $faro\\_shuffle(d, n, t)$ that performs n-consecutive faro shuffles of a list of \"cards\" d. if t is \"in,\" perform n in shuffles, otherwise perform n out shuffles._ \n",
    "\n",
    "### Solution"
   ]
  },
  {
   "cell_type": "code",
   "execution_count": 12,
   "metadata": {
    "collapsed": true
   },
   "outputs": [],
   "source": [
    "#Your code goes here.\n",
    "def faro_shuffle(d,n,t):\n",
    "    def in_shuffle(d):\n",
    "        top_half = d[:26]\n",
    "        bottom_half = d[26:]\n",
    "        outcome = []\n",
    "        for i in range(52):\n",
    "            if i%2 == 0:\n",
    "                outcome.append(bottom_half[int(i/2)])\n",
    "            if i%2 != 0:\n",
    "                outcome.append(top_half[int(i/2-1/2)])\n",
    "        return outcome\n",
    "    def out_shuffle(d):\n",
    "        top_half = d[:26]\n",
    "        bottom_half = d[26:]\n",
    "        outcome = []\n",
    "        for i in range(52):\n",
    "            if i%2 == 0:\n",
    "                outcome.append(top_half[int(i/2)])\n",
    "            if i%2 != 0:\n",
    "                outcome.append(bottom_half[int(i/2-1/2)])\n",
    "        return outcome\n",
    "    if t == 'in':\n",
    "        for i in range(n):\n",
    "            d = in_shuffle(d)\n",
    "    if t == 'out':\n",
    "        for i in range(n):\n",
    "            d = out_shuffle(d)\n",
    "    return d"
   ]
  },
  {
   "cell_type": "code",
   "execution_count": 13,
   "metadata": {
    "scrolled": true
   },
   "outputs": [
    {
     "name": "stdout",
     "output_type": "stream",
     "text": [
      "Single faro in shuffle = \n",
      " [26, 0, 27, 1, 28, 2, 29, 3, 30, 4, 31, 5, 32, 6, 33, 7, 34, 8, 35, 9, 36, 10, 37, 11, 38, 12, 39, 13, 40, 14, 41, 15, 42, 16, 43, 17, 44, 18, 45, 19, 46, 20, 47, 21, 48, 22, 49, 23, 50, 24, 51, 25] \n",
      "\n",
      "Single faro out shuffle = \n",
      " [0, 26, 1, 27, 2, 28, 3, 29, 4, 30, 5, 31, 6, 32, 7, 33, 8, 34, 9, 35, 10, 36, 11, 37, 12, 38, 13, 39, 14, 40, 15, 41, 16, 42, 17, 43, 18, 44, 19, 45, 20, 46, 21, 47, 22, 48, 23, 49, 24, 50, 25, 51] \n",
      "\n",
      "8 faro out shuffles = \n",
      " [0, 1, 2, 3, 4, 5, 6, 7, 8, 9, 10, 11, 12, 13, 14, 15, 16, 17, 18, 19, 20, 21, 22, 23, 24, 25, 26, 27, 28, 29, 30, 31, 32, 33, 34, 35, 36, 37, 38, 39, 40, 41, 42, 43, 44, 45, 46, 47, 48, 49, 50, 51] \n",
      "\n",
      "26 faro in shuffles = \n",
      " [51, 50, 49, 48, 47, 46, 45, 44, 43, 42, 41, 40, 39, 38, 37, 36, 35, 34, 33, 32, 31, 30, 29, 28, 27, 26, 25, 24, 23, 22, 21, 20, 19, 18, 17, 16, 15, 14, 13, 12, 11, 10, 9, 8, 7, 6, 5, 4, 3, 2, 1, 0] \n",
      "\n"
     ]
    }
   ],
   "source": [
    "cards = [n for n in range(0,52)]\n",
    "\n",
    "print(\"Single faro in shuffle = \\n\", faro_shuffle(cards,1,\"in\"), \"\\n\")\n",
    "print(\"Single faro out shuffle = \\n\", faro_shuffle(cards,1,\"out\"), \"\\n\")\n",
    "print(\"8 faro out shuffles = \\n\", faro_shuffle(cards,8,\"out\"), \"\\n\")\n",
    "print(\"26 faro in shuffles = \\n\", faro_shuffle(cards, 26, \"in\"), \"\\n\")\n"
   ]
  },
  {
   "cell_type": "markdown",
   "metadata": {},
   "source": [
    "### Your Test Cases"
   ]
  },
  {
   "cell_type": "code",
   "execution_count": 14,
   "metadata": {},
   "outputs": [
    {
     "name": "stdout",
     "output_type": "stream",
     "text": [
      "Single faro in shuffle = \n",
      " [39, 26, 13, 0, 40, 27, 14, 1, 41, 28, 15, 2, 42, 29, 16, 3, 43, 30, 17, 4, 44, 31, 18, 5, 45, 32, 19, 6, 46, 33, 20, 7, 47, 34, 21, 8, 48, 35, 22, 9, 49, 36, 23, 10, 50, 37, 24, 11, 51, 38, 25, 12] \n",
      "\n",
      "Single faro out shuffle = \n",
      " [0, 32, 13, 45, 26, 7, 39, 20, 1, 33, 14, 46, 27, 8, 40, 21, 2, 34, 15, 47, 28, 9, 41, 22, 3, 35, 16, 48, 29, 10, 42, 23, 4, 36, 17, 49, 30, 11, 43, 24, 5, 37, 18, 50, 31, 12, 44, 25, 6, 38, 19, 51] \n",
      "\n"
     ]
    }
   ],
   "source": [
    "print(\"Single faro in shuffle = \\n\", faro_shuffle(cards,2,\"in\"), \"\\n\")\n",
    "print(\"Single faro out shuffle = \\n\", faro_shuffle(cards,3,\"out\"), \"\\n\")"
   ]
  },
  {
   "cell_type": "markdown",
   "metadata": {},
   "source": [
    "### Comments"
   ]
  },
  {
   "cell_type": "markdown",
   "metadata": {},
   "source": [
    "## Newton-Euler Convergence to Pi: 3 points\n",
    "\n",
    "The Newton-Euler formula for approximating Pi is\n",
    "\\begin{equation}\n",
    "\\frac{\\pi}{2} = f(k) = \\sum_{k=0}^{\\infty} \\frac{2^k*k!^2}{(2k+1)!}\n",
    "\\end{equation}\n",
    "$k!$ is k-factorial $= 1*2*3* ... *k.$\n",
    "\n",
    "Implement a function $estimate\\_pi(n)$ that approximates $\\pi$ by implementing the summation for k=0 to n. Call this function from a second function $converge\\_to\\_pi(err).$ The second function computes $\\pi$ within the desired error range. You MAY use $math.pi$ to obtain the correct value of $\\pi$ for your test. $converge\\_to\\_pi$ returns the value for n required to compute the approximation and the error achieved.\n",
    "\n",
    "### Solution\n"
   ]
  },
  {
   "cell_type": "code",
   "execution_count": 15,
   "metadata": {
    "collapsed": true
   },
   "outputs": [],
   "source": [
    "# Your code goes here\n",
    "import math\n",
    "def converge_to_pi(err):\n",
    "    def estimate_pi(n):\n",
    "        outcome = []\n",
    "        for k in range(n):\n",
    "            outcome.append((2**k)*(math.factorial(k)**2)/math.factorial(2*k+1))\n",
    "        return 2*sum(outcome)\n",
    "    n = 1\n",
    "    while abs(estimate_pi(n) - math.pi) >= err:\n",
    "        n += 1\n",
    "    return n, estimate_pi(n)"
   ]
  },
  {
   "cell_type": "code",
   "execution_count": 16,
   "metadata": {},
   "outputs": [
    {
     "name": "stdout",
     "output_type": "stream",
     "text": [
      "Target error =  1e-10\n",
      "Approximating pi.\n",
      "n =  33 v =  3.141592653519746\n",
      "difference =  -7.004707924807008e-11\n"
     ]
    }
   ],
   "source": [
    "target_error = 0.0000000001\n",
    "print(\"Target error = \", target_error)\n",
    "print(\"Approximating pi.\")\n",
    "n,v = converge_to_pi(0.0000000001)\n",
    "print(\"n = \", n, \"v = \", v)\n",
    "print(\"difference = \", v - math.pi)"
   ]
  },
  {
   "cell_type": "markdown",
   "metadata": {},
   "source": [
    "## Files and Exceptions: 4 points\n",
    "\n",
    "### Definition\n",
    "\n",
    "A CSV file has a header row that \"names\" the columns and a series of rows with a value for each column. For example,\n",
    "\n",
    "```\n",
    "'playerid','yearid','teamid','ab','h','hr'\n",
    "'bondsba01', '2001', 'SFN', '476', '156', '73'\n",
    "'mcgwima01', '1998', 'SLN', '509', '152', '70'\n",
    "'sosasa01', '1998', 'CHN', '643', '198', '66'\n",
    "'mcgwima01', '1999', 'SLN', '521', '', '65'\n",
    "'sosasa01', '2001', 'CHN', '577', '189', '64'\n",
    "'sosasa01', '1999', 'CHN', '625', '180', '63'\n",
    "'marisro01', '1961', 'NYA', '590', '159', '61'\n",
    "'ruthba01', '1927', 'NYA', '540', '192', '60'\n",
    "'ruthba01', '1921', 'NYA', '540', '204', '59'\n",
    "'foxxji01', '1932', 'PHA', '585', '213', '58'\n",
    "```\n",
    "\n",
    "_Write a function $evaluate\\_csv(file\\_name, column\\_name, op\\_name).$_\n",
    "- file_name is the name of the CSV file.\n",
    "- column_name is the name of a column.\n",
    "- op_name is one of 'avg', 'sum', 'min', 'max'\n",
    "\n",
    "_Create a default input CSV file using the data from above._\n",
    "\n",
    "_The function_\n",
    "1. Opens the file specified in the passed argument. The default file name is \"data.csv.\" The function uses this file name if the function call does not provide a file name.\n",
    "2. Applies the operator op_name to the selected column.\n",
    "3. Returns the result.\n",
    "\n",
    "_The function should catch an an appropriate exception and print a message if:_\n",
    "1. It cannot open the file.\n",
    "2. The named column is not in the file.\n",
    "3. The selected column is non-numeric (has at least one non-number in the column) and the operator is 'sum' or 'avg.'\n",
    "4. Handle any unexpected exceptions.\n",
    "\n",
    "_Otherwise, the function returns the result._\n",
    "\n",
    "_Note:_ For min and max, you can treat the column as text even if the column contains string representation of numbers. You only need to handle conversion and test for numeric for avg and sum.\n",
    "\n",
    "### Solution"
   ]
  },
  {
   "cell_type": "code",
   "execution_count": 28,
   "metadata": {
    "collapsed": true
   },
   "outputs": [],
   "source": [
    "# Your code goes here\n",
    "import csv\n",
    "header = ['playerid','yearid','teamid','ab','h','hr']\n",
    "rows =   [('bondsba01', '2001', 'SFN', '476', '156', '73'),\n",
    "            ('mcgwima01', '1998', 'SLN', '509', '152', '70'),\n",
    "            ('sosasa01', '1998', 'CHN', '643', '198', '66'),\n",
    "            ('mcgwima01', '1999', 'SLN', '521', '', '65'),\n",
    "            ('sosasa01', '2001', 'CHN', '577', '189', '64'),\n",
    "            ('sosasa01', '1999', 'CHN', '625', '180', '63'),\n",
    "            ('marisro01', '1961', 'NYA', '590', '159', '61'),\n",
    "            ('ruthba01', '1927', 'NYA', '540', '192', '60'),\n",
    "            ('ruthba01', '1921', 'NYA', '540', '204', '59'),\n",
    "            ('foxxji01', '1932', 'PHA', '585', '213', '58')]\n",
    "with open('data.csv','w',newline='') as csvfile:\n",
    "    f_csv = csv.writer(csvfile)\n",
    "    f_csv.writerow(header)\n",
    "    f_csv.writerows(rows)\n",
    "    csvfile.close()\n",
    "def evaluate_csv(column_name,op_name,file_name = 'data.csv'):\n",
    "    try:\n",
    "       csv_reader = csv.reader(open(file_name))\n",
    "       data = []\n",
    "       for row in csv_reader:\n",
    "           data.append(row) \n",
    "    except FileNotFoundError :\n",
    "       print(FileNotFoundError,'[Error 2] No such file or directory:',file_name)\n",
    "       return('None')\n",
    "    if op_name not in ['avg', 'sum', 'min', 'max']:\n",
    "        print('op_name is not allowed')\n",
    "    if op_name in ['avg', 'sum', 'min', 'max']:\n",
    "        if column_name not in ['playerid','yearid','teamid','ab','h','hr']:\n",
    "            print('The named column is not in the file')\n",
    "        else:   \n",
    "            outcome = []\n",
    "            position = data[0].index(column_name)    \n",
    "            for j in range(1,len(data)):\n",
    "                outcome.append(data[j][position])\n",
    "            try:\n",
    "                outcome = list(map(eval,outcome))\n",
    "            except:\n",
    "                outcome = outcome\n",
    "            try:        \n",
    "                return(eval(op_name)(outcome))\n",
    "            except TypeError:\n",
    "                    print(TypeError,'unsupported operand type(s) for +: NoneType and str')\n",
    "            except NameError:\n",
    "                    print(NameError,'although the op_name is allowed in this function',',' \n",
    "                          'there is no such a function in Python')"
   ]
  },
  {
   "cell_type": "code",
   "execution_count": 29,
   "metadata": {},
   "outputs": [
    {
     "name": "stdout",
     "output_type": "stream",
     "text": [
      "h,max =  213\n",
      "h,max =  sosasa01\n",
      "<class 'TypeError'> unsupported operand type(s) for +: NoneType and str\n",
      "h,max =  None\n",
      "<class 'FileNotFoundError'> [Error 2] No such file or directory: foo.bar\n",
      "h,max =  None\n"
     ]
    }
   ],
   "source": [
    "print(\"h,max = \", evaluate_csv('h', 'max'))\n",
    "print(\"h,max = \", evaluate_csv('playerid', 'max'))\n",
    "print(\"h,max = \", evaluate_csv('h', 'sum'))\n",
    "print(\"h,max = \", evaluate_csv('playerid', 'max', 'foo.bar'))"
   ]
  },
  {
   "cell_type": "markdown",
   "metadata": {},
   "source": [
    "### Your Test Cases"
   ]
  },
  {
   "cell_type": "code",
   "execution_count": 30,
   "metadata": {},
   "outputs": [
    {
     "name": "stdout",
     "output_type": "stream",
     "text": [
      "The named column is not in the file\n",
      "h,max =  None\n",
      "op_name is not allowed\n",
      "h,max =  None\n",
      "<class 'FileNotFoundError'> [Error 2] No such file or directory: datafile.csv\n",
      "h,max =  None\n",
      "<class 'NameError'> although the op_name is allowed in this function ,there is no such a function in Python\n",
      "h,max =  None\n"
     ]
    }
   ],
   "source": [
    "print(\"h,max = \", evaluate_csv('hh', 'max'))\n",
    "print(\"h,max = \", evaluate_csv('playerid', 'type'))\n",
    "print(\"h,max = \", evaluate_csv('playerid', 'max', 'datafile.csv'))\n",
    "print(\"h,max = \", evaluate_csv('h', 'avg'))"
   ]
  },
  {
   "cell_type": "markdown",
   "metadata": {},
   "source": [
    "### Comments"
   ]
  },
  {
   "cell_type": "code",
   "execution_count": null,
   "metadata": {
    "collapsed": true
   },
   "outputs": [],
   "source": [
    "# At first, I output a copy of data.csv to the directory you set to make sure there is such a data.csv in the directory.\n",
    "# The evaluate_csv function I made could capture many kinds of mistakes. It could capture the FileNotFoundError, NameError, \n",
    "# typeError. Also could capture illegal op_name,illegal column_name. Therefore, this function could almostly capture all the mistakes. "
   ]
  }
 ],
 "metadata": {
  "kernelspec": {
   "display_name": "Python 3",
   "language": "python",
   "name": "python3"
  },
  "language_info": {
   "codemirror_mode": {
    "name": "ipython",
    "version": 3
   },
   "file_extension": ".py",
   "mimetype": "text/x-python",
   "name": "python",
   "nbconvert_exporter": "python",
   "pygments_lexer": "ipython3",
   "version": "3.6.3"
  },
  "toc": {
   "nav_menu": {},
   "number_sections": true,
   "sideBar": true,
   "skip_h1_title": false,
   "title_cell": "Table of Contents",
   "title_sidebar": "Contents",
   "toc_cell": false,
   "toc_position": {},
   "toc_section_display": true,
   "toc_window_display": false
  }
 },
 "nbformat": 4,
 "nbformat_minor": 2
}
