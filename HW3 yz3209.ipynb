{
 "cells": [
  {
   "cell_type": "code",
   "execution_count": null,
   "metadata": {
    "collapsed": true
   },
   "outputs": [],
   "source": [
    "import pandas as pd\n",
    "import math"
   ]
  },
  {
   "cell_type": "code",
   "execution_count": null,
   "metadata": {
    "collapsed": true
   },
   "outputs": [],
   "source": [
    "def check_word(word):\n",
    "    try:\n",
    "        diction\n",
    "    except:\n",
    "        diction = pd.read_csv('dictionary.csv')\n",
    "    suggestion = []\n",
    "    def transpose(word):\n",
    "        result = []\n",
    "        for i in range(0,len(word)):\n",
    "            wordlist = list(word)\n",
    "            a = wordlist.pop(i)\n",
    "            for j in range(0,len(wordlist) + 1):\n",
    "                b = wordlist[:j] + list(a) + wordlist[j:]\n",
    "                outcome = ''.join(b)\n",
    "                result.append(outcome)\n",
    "                finalresult = list(set(result))\n",
    "        return finalresult\n",
    "    def insertion(word):\n",
    "        alphabet = [chr(i) for i in range(97,123)]\n",
    "        result2 = []\n",
    "        for i in alphabet:\n",
    "            wordlist2 = list(word)\n",
    "            for j in range(0,len(wordlist2) + 1):\n",
    "                c = wordlist2[:j] + list(i) + wordlist2[j:]\n",
    "                outcome2 = ''.join(c)\n",
    "                result2.append(outcome2)\n",
    "                finalresult2 = list(set(result2)) \n",
    "        return finalresult2\n",
    "    def space(word):\n",
    "         wordlist3 = list(word)\n",
    "         suggestion2 = []\n",
    "         for i in range(1,len(wordlist3)):\n",
    "            d = wordlist3[:i] + list(' ') + wordlist3[i:]\n",
    "            outcome3 = ''.join(d)\n",
    "            pairsword = outcome3.split(sep = ' ')\n",
    "            pair1,pair2 = pairsword[0],pairsword[1]             \n",
    "            if pair1 in list(diction['Word']) and pair2 in list(diction['Word']):\n",
    "               suggestion2 = suggestion2 + [pair1] + [pair2]\n",
    "         return suggestion2\n",
    "    def remove(word):\n",
    "         result4 =[]\n",
    "         for i in range(0,len(list(word))):\n",
    "             wordlist4 = list(word)\n",
    "             wordlist4.pop(i)\n",
    "             outcome4 = ''.join(wordlist4)\n",
    "             result4.append(outcome4)\n",
    "         return result4\n",
    "    def entrydetect(word):\n",
    "        result5 = []\n",
    "        for i in range(0,len(diction['User_Created'])):\n",
    "            e = math.isnan(diction['User_Created'][i])\n",
    "            result5.append(e)\n",
    "        if sum(result5) < len(diction['User_Created']):\n",
    "            return('there is an entry')\n",
    "        if sum(result5) == len(diction['User_Created']):\n",
    "            return('there is not any entry')\n",
    "    if word in list(diction['Word']):\n",
    "        return True\n",
    "    if word not in list(diction['Word']):   \n",
    "       for i in transpose(word) + insertion(word) + remove(word):\n",
    "           if i in list(diction['Word']):\n",
    "              suggestion.append(i)\n",
    "    suggestion = suggestion + [space(word)]\n",
    "    return suggestion,entrydetect(word)"
   ]
  },
  {
   "cell_type": "code",
   "execution_count": null,
   "metadata": {
    "collapsed": true
   },
   "outputs": [],
   "source": [
    "def update_corrections(old_word, newword):\n",
    "    try:\n",
    "        diction\n",
    "    except:\n",
    "        diction = pd.read_csv('dictionary.csv')\n",
    "    if newword in list(diction['Word']):\n",
    "       for i in range(0,len(diction['Word'])):\n",
    "           if newword == diction['Word'][i]:\n",
    "              diction['Times_Selected'][i] = diction['Times_Selected'][i] + 1 \n",
    "    else:\n",
    "        newdata=pd.DataFrame([[newword,1/1086322084,'True',1,'0']],\n",
    "                            columns = ['Word','Relative_Frequency','User_Created','Times_Selected','Frequency'])\n",
    "        newdiction = diction.append(newdata,ignore_index = True)\n",
    "    newdiction.to_csv(r'newdiction.csv')"
   ]
  },
  {
   "cell_type": "code",
   "execution_count": null,
   "metadata": {
    "collapsed": true
   },
   "outputs": [],
   "source": [
    "def main():\n",
    "    done = False\n",
    "    while not done:\n",
    "        w = input(\"Please enter a word (enter -1 to end: \")\n",
    "        if w == \"-1\":\n",
    "            print(\"Exiting.\")\n",
    "            break\n",
    "            done = True\n",
    "        c = check_word(w)\n",
    "        if c == True:\n",
    "            print(\"The word is correctly spelled.\")\n",
    "        else:\n",
    "            print(\"Suggested corrections are: \", c)\n",
    "            f = input(\"Enter one of the words or your own correction: \")\n",
    "            r = update_corrections(w,f)"
   ]
  },
  {
   "cell_type": "code",
   "execution_count": null,
   "metadata": {},
   "outputs": [],
   "source": [
    "main()"
   ]
  },
  {
   "cell_type": "code",
   "execution_count": null,
   "metadata": {
    "collapsed": true
   },
   "outputs": [],
   "source": []
  }
 ],
 "metadata": {
  "kernelspec": {
   "display_name": "Python 3",
   "language": "python",
   "name": "python3"
  },
  "language_info": {
   "codemirror_mode": {
    "name": "ipython",
    "version": 3
   },
   "file_extension": ".py",
   "mimetype": "text/x-python",
   "name": "python",
   "nbconvert_exporter": "python",
   "pygments_lexer": "ipython3",
   "version": "3.6.3"
  }
 },
 "nbformat": 4,
 "nbformat_minor": 2
}
