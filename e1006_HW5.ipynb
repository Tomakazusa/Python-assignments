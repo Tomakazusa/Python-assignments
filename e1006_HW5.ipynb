{
 "cells": [
  {
   "cell_type": "markdown",
   "metadata": {},
   "source": [
    "\n",
    "# Introduction to Computing for Engineers and Computer Scientists<BR><BR>Homework Assignment 5\n",
    "    \n",
    "Your submission must be a Jupyter notebook with a file name of the form: uni_hw5.ipynb, where uni is your UNI."
   ]
  },
  {
   "cell_type": "markdown",
   "metadata": {},
   "source": [
    "## Part 1\n",
    "\n",
    "### Overview\n",
    "\n",
    "\"A group is a set, G, together with an operation • (called the group law of G) that combines any two elements a and b to form another element, denoted a • b or ab. To qualify as a group, the set and operation, (G, •), must satisfy four requirements known as the group axioms:\n",
    "- Closure: For all a, b in G, the result of the operation, a • b, is also in G.\n",
    "- Associativity: For all a, b and c in G, (a • b) • c = a • (b • c).\n",
    "- Identity element: There exists an element e in G such that, for every element a in G, the equation e • a = a • e = a holds. Such an element is unique, ... and thus one speaks of the identity element.\n",
    "- Inverse element: For each a in G, there exists an element b in G, commonly denoted $a^{−1}$ (or −a, if the operation is denoted \"+\"), such that a • b = b • a = e, where e is the identity element.\n",
    "\n",
    "A group is called _finite_ if it has a finite number of elements. The number of elements is called the order of the group.\"\n",
    "(https://en.wikipedia.org/wiki/Group_(mathematics)#Finite_groups)"
   ]
  },
  {
   "cell_type": "markdown",
   "metadata": {},
   "source": [
    "\"A Cayley table, after the 19th century British mathematician Arthur Cayley, describes the structure of a finite group by arranging all the possible products of all the group's elements in a square table reminiscent of an addition or multiplication table.\" (https://en.wikipedia.org/wiki/Cayley_table)\n",
    "\n",
    "A common example of a finite group is _modular arithmetic._ For modulo-5,\n",
    "- The group's symbol elements are $ G = \\{0, 1, 2, 3, 4\\}$\n",
    "- If $a,b \\in G,$ and $+$ is normal integer addition. \n",
    "    - $a \\bullet b = a + b,$ if  $(a+b) \\lt 5.$\n",
    "    - $a \\bullet b = a + b - 5,$ if  $(a+b) \\ge 5.$\n",
    "   "
   ]
  },
  {
   "cell_type": "markdown",
   "metadata": {},
   "source": [
    "- The Cayley Table for the group is:\n",
    "\n",
    "| <img src=\"./cayley5.jpeg\"> |\n",
    "| :--: |\n",
    "| __Cayley Table for Addition Mod 5__ |"
   ]
  },
  {
   "cell_type": "markdown",
   "metadata": {},
   "source": [
    "### HW 5: Part 1 $-$ Assignment\n",
    "\n",
    "- Implement a class ```BaseCayleyGroup.```\n",
    "    - The class supports the operators ```==``` and ```*.```\n",
    "    - The __init__ method prevents an instance of this class from being directly created.\n",
    "\n",
    "\n",
    "- The assignment definition provides two subclasses that derive much of their implementation from the base class ```BaseCayleyGroup```:\n",
    "    - ```CayleyMod5,``` which is the modular arithmetic class above. Remember, the algebraic operator is ```*``` but the implementation is modular addition. \n",
    "    - ```CayleyOneAndI,``` which is multiplication on the set $\\{1, i, -1, -i\\}.$ The Cayley Table for the class is below.\n",
    "    \n",
    "| <img src=\"./CayleyOneAndI.jpeg\"> |\n",
    "| :---: |\n",
    "| __Cayley Table for 1,-1,i,-i__ |\n",
    "\n",
    "\n",
    "- For the assignment, you must design and implement the base class ```BaseCayleyGroup``` such that the derived classes execute properly. The assignment provides some simple test cases.\n",
    "\n",
    "\n",
    "- You should NOT modify the subclasses. If you believe there is an error in the example, please contact the instructor or a CA. \n",
    "\n",
    "\n",
    "- Please add a markdown cell \n",
    "\n",
    "\n",
    "- __Note:__ There is a slightly better way to handle the \"abstractness\" of ```BaseCayleyGroup``` but we have not yet covered the material."
   ]
  },
  {
   "cell_type": "markdown",
   "metadata": {},
   "source": [
    "### HW5: Part 1 $-$ Test Code"
   ]
  },
  {
   "cell_type": "code",
   "execution_count": 4,
   "metadata": {
    "collapsed": true
   },
   "outputs": [],
   "source": [
    "class BaseCayleyGroup(object):\n",
    "    \"\"\"\n",
    "    Your implementation code goes below.\n",
    "    \"\"\"\n",
    "    def __init__(self):\n",
    "         pass\n",
    "    def __str__(self):\n",
    "         return str(self.get_value())\n",
    "    def __mul__(self,other):\n",
    "         if type(self) is CayleyMod5:\n",
    "            table = CayleyMod5.get_cayley_table()\n",
    "            return table[(self.get_value(),other.get_value())]\n",
    "         elif type(self) is CayleyOneAndI:\n",
    "            table = CayleyOneAndI.get_cayley_table()\n",
    "            return table[(self.get_value(),other.get_value())]\n",
    "         else:\n",
    "            print('we only have two groups')\n"
   ]
  },
  {
   "cell_type": "code",
   "execution_count": 5,
   "metadata": {
    "collapsed": true
   },
   "outputs": [],
   "source": [
    "class CayleyMod5(BaseCayleyGroup):\n",
    "    \"\"\"\n",
    "    Implement addition mod 5. Since this is a group, '*' is the group operator.\n",
    "    \"\"\"\n",
    "\n",
    "    __symbols = {0, 1, 2, 3, 4}     # Attribute of class -- group symbols\n",
    "    __table = None                  # Attribute of class -- Cayley Table for class.\n",
    "\n",
    "    def __init__(self, v):\n",
    "\n",
    "        # Not strictly the correct approach. Should probably return an error, but OK.\n",
    "        self.__value = v % len(CayleyMod5.__symbols)\n",
    "\n",
    "        if CayleyMod5.__table is None:\n",
    "            \"\"\"\n",
    "            If we have not initialized the table for the class, generate the table.\n",
    "            This approach is kind of awkward and general solutions would do something better.\n",
    "            \"\"\"\n",
    "            symbols = CayleyMod5.__symbols\n",
    "\n",
    "            # For each pair of symbols, compute addition mod 5.\n",
    "            temp = [(k, v) for k in symbols for v in symbols]\n",
    "            CayleyMod5.__table = dict({((i, j), (i + j) % 5) for i, j in temp})\n",
    "\n",
    "    @classmethod # Method on class. HINT: Base class calls.\n",
    "    def get_cayley_table(cls):\n",
    "        return CayleyMod5.__table\n",
    "\n",
    "    # Method on instance. HINT: base class calls.\n",
    "    def get_value(self):\n",
    "        return self.__value\n",
    "\n",
    "class CayleyOneAndI(BaseCayleyGroup):\n",
    "\n",
    "    # These are class level properties/attributes. The values are the same for all instances of the class.\n",
    "    __symbols = {1+0j, -1-0j, 0+1j, -0-1j}      # Valid symbols for the group.\n",
    "    __table = None                              # Will hold the Cayley table.\n",
    "\n",
    "    def __init__(self, v):\n",
    "\n",
    "        # Make sure that the input value is a valid symbol.\n",
    "        if not v in CayleyOneAndI.__symbols:\n",
    "            raise ValueError(\"Invalid symbol. Valid symbols are: {}\".format(CayleyOneAndI.__symbols))\n",
    "\n",
    "        self.__value = v\n",
    "\n",
    "        if CayleyOneAndI.__table is None:\n",
    "            \"\"\"\n",
    "            This generates the table. For any pair of numbers in the symbol table, the result is simply\n",
    "            complex number multiplication. So, we use a comprehension. This is kind of a hack and we will\n",
    "            see cleaner approaches for the OO pattern in future lectures\n",
    "            \"\"\"\n",
    "            temp = [(k, v) for k in CayleyOneAndI.__symbols for v in CayleyOneAndI.__symbols]\n",
    "            CayleyOneAndI.__table = dict({((i, j), i*j) for i, j in temp})\n",
    "\n",
    "    @classmethod # Our first use of a decorator. This is a method on the class object, not an instance.\n",
    "    def get_cayley_table(cls):\n",
    "        \"\"\"\n",
    "        Returns the Cayley table. HINT: the base class that you implement calls this method.\n",
    "        :return:\n",
    "        \"\"\"\n",
    "        return CayleyOneAndI.__table\n",
    "\n",
    "    def get_value(self):\n",
    "        \"\"\"\n",
    "        HINT: the base class you implement calls this method. The value is an attribute of the instance.\n",
    "        :return: The value of the group element as a symbol (complex number).\n",
    "        \"\"\"\n",
    "        return self.__value"
   ]
  },
  {
   "cell_type": "code",
   "execution_count": 6,
   "metadata": {},
   "outputs": [
    {
     "name": "stdout",
     "output_type": "stream",
     "text": [
      "f1 =  2\n",
      "f2 =  3\n",
      "f3 =  1\n",
      "f1 * f2 =  0\n",
      "f3 * f2 =  4\n",
      "x =  (-1+0j)\n",
      "y =  (-1+0j)\n",
      "x*y =  (1-0j)\n",
      "z =  1j\n",
      "x*z = (-0-1j)\n",
      "z*z = (-1+0j)\n",
      "Trying to make CayleyOneAndI(2)\n"
     ]
    },
    {
     "ename": "ValueError",
     "evalue": "Invalid symbol. Valid symbols are: {(1+0j), -1j, 1j, (-1+0j)}",
     "output_type": "error",
     "traceback": [
      "\u001b[1;31m---------------------------------------------------------------------------\u001b[0m",
      "\u001b[1;31mValueError\u001b[0m                                Traceback (most recent call last)",
      "\u001b[1;32m<ipython-input-6-e441d6466aec>\u001b[0m in \u001b[0;36m<module>\u001b[1;34m()\u001b[0m\n\u001b[0;32m     29\u001b[0m \u001b[1;33m\u001b[0m\u001b[0m\n\u001b[0;32m     30\u001b[0m \u001b[1;33m\u001b[0m\u001b[0m\n\u001b[1;32m---> 31\u001b[1;33m \u001b[0munit_test\u001b[0m\u001b[1;33m(\u001b[0m\u001b[1;33m)\u001b[0m\u001b[1;33m\u001b[0m\u001b[0m\n\u001b[0m",
      "\u001b[1;32m<ipython-input-6-e441d6466aec>\u001b[0m in \u001b[0;36munit_test\u001b[1;34m()\u001b[0m\n\u001b[0;32m     26\u001b[0m \u001b[1;33m\u001b[0m\u001b[0m\n\u001b[0;32m     27\u001b[0m     \u001b[0mprint\u001b[0m\u001b[1;33m(\u001b[0m\u001b[1;34m\"Trying to make CayleyOneAndI(2)\"\u001b[0m\u001b[1;33m)\u001b[0m\u001b[1;33m\u001b[0m\u001b[0m\n\u001b[1;32m---> 28\u001b[1;33m     \u001b[0mf\u001b[0m \u001b[1;33m=\u001b[0m \u001b[0mCayleyOneAndI\u001b[0m\u001b[1;33m(\u001b[0m\u001b[1;36m2\u001b[0m\u001b[1;33m)\u001b[0m\u001b[1;33m\u001b[0m\u001b[0m\n\u001b[0m\u001b[0;32m     29\u001b[0m \u001b[1;33m\u001b[0m\u001b[0m\n\u001b[0;32m     30\u001b[0m \u001b[1;33m\u001b[0m\u001b[0m\n",
      "\u001b[1;32m<ipython-input-5-4ba42511ead3>\u001b[0m in \u001b[0;36m__init__\u001b[1;34m(self, v)\u001b[0m\n\u001b[0;32m     41\u001b[0m         \u001b[1;31m# Make sure that the input value is a valid symbol.\u001b[0m\u001b[1;33m\u001b[0m\u001b[1;33m\u001b[0m\u001b[0m\n\u001b[0;32m     42\u001b[0m         \u001b[1;32mif\u001b[0m \u001b[1;32mnot\u001b[0m \u001b[0mv\u001b[0m \u001b[1;32min\u001b[0m \u001b[0mCayleyOneAndI\u001b[0m\u001b[1;33m.\u001b[0m\u001b[0m__symbols\u001b[0m\u001b[1;33m:\u001b[0m\u001b[1;33m\u001b[0m\u001b[0m\n\u001b[1;32m---> 43\u001b[1;33m             \u001b[1;32mraise\u001b[0m \u001b[0mValueError\u001b[0m\u001b[1;33m(\u001b[0m\u001b[1;34m\"Invalid symbol. Valid symbols are: {}\"\u001b[0m\u001b[1;33m.\u001b[0m\u001b[0mformat\u001b[0m\u001b[1;33m(\u001b[0m\u001b[0mCayleyOneAndI\u001b[0m\u001b[1;33m.\u001b[0m\u001b[0m__symbols\u001b[0m\u001b[1;33m)\u001b[0m\u001b[1;33m)\u001b[0m\u001b[1;33m\u001b[0m\u001b[0m\n\u001b[0m\u001b[0;32m     44\u001b[0m \u001b[1;33m\u001b[0m\u001b[0m\n\u001b[0;32m     45\u001b[0m         \u001b[0mself\u001b[0m\u001b[1;33m.\u001b[0m\u001b[0m__value\u001b[0m \u001b[1;33m=\u001b[0m \u001b[0mv\u001b[0m\u001b[1;33m\u001b[0m\u001b[0m\n",
      "\u001b[1;31mValueError\u001b[0m: Invalid symbol. Valid symbols are: {(1+0j), -1j, 1j, (-1+0j)}"
     ]
    }
   ],
   "source": [
    "def unit_test():\n",
    "\n",
    "\n",
    "    f1 = CayleyMod5(2)\n",
    "    f2 = CayleyMod5(3)\n",
    "    f3 = CayleyMod5(11)\n",
    "\n",
    "    print(\"f1 = \", f1)\n",
    "    print(\"f2 = \", f2)\n",
    "    print(\"f3 = \", f3)\n",
    "\n",
    "    print(\"f1 * f2 = \", f1 * f2)\n",
    "    print(\"f3 * f2 = \", f3 * f2)\n",
    "\n",
    "\n",
    "    x = CayleyOneAndI(-1-0j)\n",
    "    y = CayleyOneAndI(-1-0j)\n",
    "    print(\"x = \", x)\n",
    "    print(\"y = \", y)\n",
    "    print(\"x*y = \", x*y)\n",
    "    z = CayleyOneAndI(0+1j)\n",
    "    print(\"z = \", z)\n",
    "    print(\"x*z =\", x*z)\n",
    "    print(\"z*z =\", z*z)\n",
    "\n",
    "    \n",
    "    print(\"Trying to make CayleyOneAndI(2)\")\n",
    "    f = CayleyOneAndI(2)\n",
    "\n",
    "\n",
    "unit_test()"
   ]
  },
  {
   "cell_type": "markdown",
   "metadata": {},
   "source": [
    "## HW5: Part 2\n",
    "\n",
    "### HW5: Part 2 $-$ Overview\n",
    "\n",
    "- \"In mathematics, a matrix (plural: matrices) is a rectangular array of numbers, symbols, or expressions, arranged in rows and columns.\" (https://en.wikipedia.org/wiki/Matrix_(mathematics))\n",
    "\n",
    "\n",
    "- The dimensions of a matrix are two positive integers:\n",
    "    - $n$ is the number of rows\n",
    "    - $m$ is the number of columns.\n",
    "    \n",
    "    \n",
    "- We can denote a matrix $A's$ entries as $A_{i,j}$ where\n",
    "    - $i$ is the row number with $1 \\le i \\le n.$\n",
    "    - $j$ is the column number with $1 \\le j \\le m.$\n",
    "    "
   ]
  },
  {
   "cell_type": "markdown",
   "metadata": {},
   "source": [
    "- Example: In the table below, $A_{2,3} = f$ and $A_{3,1} = g.$\n",
    "\n",
    "|   | 1 | 2 | 3 |\n",
    "|---|---|---|---|\n",
    "| 1 | a | b | c |\n",
    "| 2 | d | e | f |\n",
    "| 3 | g | h | i |\n",
    "| 4 | j | k | l |"
   ]
  },
  {
   "cell_type": "markdown",
   "metadata": {},
   "source": [
    "- The sum A+B of two n-by-m matrices A and B is calculated entrywise:<br><br>\n",
    "\\begin{equation}\n",
    "(A + B)_{i,j} = A_{i,j} + B_{i,j}.\n",
    "\\end{equation}\n",
    "\n",
    "\n",
    "- Two matrices are _equal_ if <br><br>\n",
    "\\begin{equation}\n",
    "A_{i,j} == B_{i,j}, \\forall i,j\n",
    "\\end{equation}"
   ]
  },
  {
   "cell_type": "markdown",
   "metadata": {},
   "source": [
    "### HW5: Part 2 $-$ Matrix Implementation\n",
    "\n",
    "- There are many, many ways to implement a matrix.\n",
    "\n",
    "\n",
    "- The obvious, simple approach is to have an entry in a data structure that holds each $i,j$ value.\n",
    "\n",
    "\n",
    "- \"In numerical analysis and computer science, a sparse matrix or sparse array is a matrix in which most of the elements are zero. ... When storing and manipulating sparse matrices on a computer, it is beneficial and often necessary to use specialized algorithms and data structures that take advantage of the sparse structure of the matrix.\" (https://en.wikipedia.org/wiki/Sparse_matrix)"
   ]
  },
  {
   "cell_type": "markdown",
   "metadata": {},
   "source": [
    "### HW5: Part 2 $-$ Assignment\n",
    "\n",
    "- Implement two Python classes:\n",
    "    - ```BaseMatrix,``` which stores the value of each i,j elements in some data structure, e.g. list, tuples, dictionary, ...\n",
    "    - ```SparseMatrix,``` which stores __only__ the non-empty/non-zero values in a data structure, e.g. list, tuple, dictionary, ... ```SparseMatrix``` is a subclass of ```BaseMatrix.```\n",
    "\n",
    "\n",
    "- ```BaseMatrix``` must implement\n",
    "    - A constructor that takes a numeric type (e.g. int, float, complex), and the matrix dimensions.\n",
    "    - ```get(i,j),``` which returns the ```i,j``` value.\n",
    "    - ```set(i,j,v),``` which sets the ```i,j``` value, if v is of the numeric type specified in the constructor. Otherwise, ```set()``` returns a ```ValueError.```\n",
    "    - ```==``` which returns ```True``` if the two matrices are equal.\n",
    "    - ```+``` that adds the two matrices.\n",
    "    - The value of any element not explicitly set is 0.\n",
    "    - The method to convert the matrix to a printable string.\n",
    "\n",
    "\n",
    "- ```SparseMatrix``` must ONLY implement ```get()``` and ```set().``` All other functions must come from ```BaseMatrix.```\n",
    "\n",
    "\n",
    "- ```SparseMatrix``` and ```BaseMatrix``` are __polymorphically equivalent.__ That is, you can add and test for equality between any combination of ```BaseMatrix``` and ```SparseMatrix```\n",
    "\n"
   ]
  },
  {
   "cell_type": "markdown",
   "metadata": {},
   "source": [
    "### HW5: Part 2 $-$ Sample Tests"
   ]
  },
  {
   "cell_type": "code",
   "execution_count": 1,
   "metadata": {
    "collapsed": true
   },
   "outputs": [],
   "source": [
    "class MyMatrix(object):\n",
    "    def __init__(self,data_type,width,length): \n",
    "        self.data_type = data_type\n",
    "        self.length = length\n",
    "        self.width = width\n",
    "        self.sparse_matrix = dict()\n",
    "        \n",
    "        self.matrix = []\n",
    "        for i in range(self.width):\n",
    "            this_row = []\n",
    "            for j in range(self.length):\n",
    "                this_row.append(self.data_type())\n",
    "            self.matrix.append(this_row)\n",
    "    def __str__(self):\n",
    "        print(str(self.width),\"X\",str(self.length),\"matrix of type\",str(self.data_type))\n",
    "        for i in range(len(self.matrix)):\n",
    "            this_row = \",\".join(map(str,self.matrix[i]))\n",
    "            print(this_row)\n",
    "        return \"\"\n",
    "    def set(self,i,j,value):\n",
    "        self.matrix[i][j] = value       \n",
    "    def get(self,i,j):\n",
    "        return self.matrix[i][j]\n",
    "    def __add__(self,other):\n",
    "        new = MyMatrix(self.data_type,self.width,self.length)\n",
    "        for i in range(self.width):\n",
    "            for j in range(self.length):\n",
    "                new.matrix[i][j] = self.get(i,j) + other.get(i,j)\n",
    "        return new\n",
    "    def __eq__(self,other):\n",
    "        return self.matrix == other.matrix\n",
    "    \n",
    "class MySparseMatrix(MyMatrix):\n",
    "    # Your code goes here.\n",
    "    def set(self,i,j,value):\n",
    "        self.matrix[i][j] = value  \n",
    "    def get(self,i,j):\n",
    "        return self.matrix[i][j]\n",
    "\n",
    "\n",
    "\n",
    "\n"
   ]
  },
  {
   "cell_type": "code",
   "execution_count": 3,
   "metadata": {},
   "outputs": [
    {
     "name": "stdout",
     "output_type": "stream",
     "text": [
      "2 X 2 matrix of type <class 'int'>\n",
      "0,0\n",
      "0,0\n",
      "\n"
     ]
    }
   ],
   "source": [
    "t = MyMatrix(int,2,2)\n",
    "print(t)"
   ]
  },
  {
   "cell_type": "code",
   "execution_count": 15,
   "metadata": {},
   "outputs": [
    {
     "name": "stdout",
     "output_type": "stream",
     "text": [
      "5\n",
      "tt =  2 X 2 matrix of type <class 'int'>\n",
      "11,5\n",
      "2,0\n",
      "\n"
     ]
    }
   ],
   "source": [
    "tt = MySparseMatrix(int, 2, 2)\n",
    "tt.set(0,0,11)\n",
    "tt.set(0,1,5)\n",
    "tt.set(1,0,2)\n",
    "print(tt.get(0,1))\n",
    "print(\"tt = \", tt)"
   ]
  },
  {
   "cell_type": "code",
   "execution_count": 16,
   "metadata": {},
   "outputs": [
    {
     "name": "stdout",
     "output_type": "stream",
     "text": [
      "t1 =  2 X 2 matrix of type <class 'int'>\n",
      "0,-11\n",
      "0,11\n",
      "\n"
     ]
    }
   ],
   "source": [
    "t1 = MyMatrix(int, 2, 2)\n",
    "t1.set(0,1,-11)\n",
    "t1.set(1,1,11)\n",
    "print(\"t1 = \", t1)"
   ]
  },
  {
   "cell_type": "code",
   "execution_count": 17,
   "metadata": {},
   "outputs": [
    {
     "name": "stdout",
     "output_type": "stream",
     "text": [
      "tt + t1 = 2 X 2 matrix of type <class 'int'>\n",
      "11,-6\n",
      "2,11\n",
      "\n"
     ]
    }
   ],
   "source": [
    "print(\"tt + t1 =\", tt + t1)"
   ]
  },
  {
   "cell_type": "code",
   "execution_count": 18,
   "metadata": {},
   "outputs": [
    {
     "name": "stdout",
     "output_type": "stream",
     "text": [
      "t3 =  3 X 3 matrix of type <class 'float'>\n",
      "0.0,0.0,0.0\n",
      "0.0,0.0,0.0\n",
      "0.0,0.0,0.0\n",
      "\n",
      "t4 =  3 X 3 matrix of type <class 'float'>\n",
      "0.0,0.0,0.0\n",
      "0.0,0.0,0.0\n",
      "0.0,0.0,0.0\n",
      "\n",
      "t3 == t4 resolves to  True\n"
     ]
    }
   ],
   "source": [
    "t3 = MyMatrix(float, 3, 3)\n",
    "t4 = MyMatrix(float, 3,3)\n",
    "print(\"t3 = \", t3)\n",
    "print(\"t4 = \", t4)\n",
    "print(\"t3 == t4 resolves to \", t3==t4)"
   ]
  },
  {
   "cell_type": "code",
   "execution_count": 19,
   "metadata": {},
   "outputs": [
    {
     "name": "stdout",
     "output_type": "stream",
     "text": [
      "t5 =  3 X 3 matrix of type <class 'float'>\n",
      "0.0,0.0,0.0\n",
      "0.0,0.0,0.0\n",
      "0.0,0.0,0.0\n",
      "\n",
      "t6 =  3 X 3 matrix of type <class 'float'>\n",
      "0.0,0.0,0.0\n",
      "0.0,0.0,0.0\n",
      "0.0,0.0,0.0\n",
      "\n",
      "t5 == t6 is  True\n",
      "t5 is t6 evaluates to  False\n"
     ]
    }
   ],
   "source": [
    "t5 = MyMatrix(float, 3, 3)\n",
    "t6 = MySparseMatrix(float, 3,3)\n",
    "print(\"t5 = \", t5)\n",
    "print(\"t6 = \", t6)\n",
    "\n",
    "print(\"t5 == t6 is \", t5 == t6)\n",
    "print(\"t5 is t6 evaluates to \", t5 is t6)"
   ]
  },
  {
   "cell_type": "code",
   "execution_count": 20,
   "metadata": {},
   "outputs": [
    {
     "name": "stdout",
     "output_type": "stream",
     "text": [
      "updated t5 =  3 X 3 matrix of type <class 'float'>\n",
      "3.4,0.0,0.0\n",
      "0.0,4.0,0.0\n",
      "0.0,0.0,0.0\n",
      "\n",
      "updated t6 =  3 X 3 matrix of type <class 'float'>\n",
      "0.0,0.0,0.0\n",
      "0.0,11.0,0.0\n",
      "0.0,0.0,0.0\n",
      "\n",
      "after updated, t5 == t6 is  False\n",
      "t5 + t6 =  3 X 3 matrix of type <class 'float'>\n",
      "3.4,0.0,0.0\n",
      "0.0,15.0,0.0\n",
      "0.0,0.0,0.0\n",
      "\n"
     ]
    }
   ],
   "source": [
    "t5.set(0,0,3.4)\n",
    "t5.set(1,1,4.0)\n",
    "print(\"updated t5 = \", t5)\n",
    "\n",
    "\n",
    "t6.set(1,1,11.0)\n",
    "print(\"updated t6 = \", t6)\n",
    "\n",
    "print(\"after updated, t5 == t6 is \", t5 == t6)\n",
    "\n",
    "\n",
    "print(\"t5 + t6 = \", t5+t6)"
   ]
  },
  {
   "cell_type": "code",
   "execution_count": null,
   "metadata": {
    "collapsed": true
   },
   "outputs": [],
   "source": []
  }
 ],
 "metadata": {
  "kernelspec": {
   "display_name": "Python 3",
   "language": "python",
   "name": "python3"
  },
  "language_info": {
   "codemirror_mode": {
    "name": "ipython",
    "version": 3
   },
   "file_extension": ".py",
   "mimetype": "text/x-python",
   "name": "python",
   "nbconvert_exporter": "python",
   "pygments_lexer": "ipython3",
   "version": "3.6.3"
  },
  "toc": {
   "nav_menu": {},
   "number_sections": true,
   "sideBar": true,
   "skip_h1_title": false,
   "title_cell": "Table of Contents",
   "title_sidebar": "Contents",
   "toc_cell": false,
   "toc_position": {},
   "toc_section_display": true,
   "toc_window_display": false
  }
 },
 "nbformat": 4,
 "nbformat_minor": 2
}
